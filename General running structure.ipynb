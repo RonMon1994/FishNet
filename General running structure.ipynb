{
 "cells": [
  {
   "cell_type": "code",
   "execution_count": null,
   "metadata": {},
   "outputs": [],
   "source": [
    "from ultralytics import YOLO"
   ]
  },
  {
   "cell_type": "markdown",
   "metadata": {},
   "source": [
    "Loading a selected model with trained weights"
   ]
  },
  {
   "cell_type": "code",
   "execution_count": null,
   "metadata": {},
   "outputs": [],
   "source": [
    "model = YOLO(\"/home/ronm/Academic/DeepLearning/FinalProject/FishNet-main/runs/detect/train80/weights/best.pt\")"
   ]
  },
  {
   "cell_type": "markdown",
   "metadata": {},
   "source": [
    "An example of training the model with the selected parameters"
   ]
  },
  {
   "cell_type": "code",
   "execution_count": null,
   "metadata": {},
   "outputs": [],
   "source": [
    "results = model.train(data='/home/ronm/Academic/DeepLearning/FinalProject/FishNet-main/Mediterranean fish.v8i.yolov8/data.yaml', epochs=50, batch=4 ,optimizer='SGD' ,imgsz=1280 ,freeze=10 ,dropout=0.3 ,device=0 )"
   ]
  },
  {
   "cell_type": "markdown",
   "metadata": {},
   "source": [
    "An example of running the model on a folder of images and saving the results obtained"
   ]
  },
  {
   "cell_type": "code",
   "execution_count": null,
   "metadata": {},
   "outputs": [],
   "source": [
    "model.predict(source=\"/home/ronm/Academic/DeepLearning/FinalProject/FishNet-main/Mediterranean fish.v8i.yolov8/test/images\", save=True)"
   ]
  }
 ],
 "metadata": {
  "kernelspec": {
   "display_name": "Deepenv",
   "language": "python",
   "name": "python3"
  },
  "language_info": {
   "name": "python",
   "version": "3.8.12"
  }
 },
 "nbformat": 4,
 "nbformat_minor": 2
}
